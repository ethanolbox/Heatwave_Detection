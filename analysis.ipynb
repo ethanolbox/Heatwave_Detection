{
 "cells": [
  {
   "cell_type": "code",
   "execution_count": 5,
   "metadata": {},
   "outputs": [],
   "source": [
    "# Basic imports\n",
    "import scipy, pandas as pd, numpy as np\n",
    "from matplotlib import pyplot as plt"
   ]
  },
  {
   "cell_type": "code",
   "execution_count": 4,
   "metadata": {},
   "outputs": [],
   "source": [
    "# set the constants\n",
    "CUTOFF = 37.78\n",
    "DAYS = 3\n",
    "\n",
    "LEAST_FILTER = 26.67\n",
    "\n",
    "THRESHOLDS = [26.67, 32.22, 37.78]"
   ]
  },
  {
   "cell_type": "code",
   "execution_count": 6,
   "metadata": {},
   "outputs": [],
   "source": [
    "# reshape, remove unnecessary columns and add statistical filter + threshold\n",
    "def proc(frame, upper_threshold, year):\n",
    "    processed = frame.copy()\n",
    "    for name in list(frame):\n",
    "        if name[:4] != \"tmax\" and name != \"GEOID20\":\n",
    "            processed = processed.drop(name, axis=1)\n",
    "    \n",
    "        \n",
    "    stats = processed.set_index('GEOID20')\n",
    "    stats = stats.apply(pd.DataFrame.describe, axis=1)\n",
    "    stats[\"upper\"] = stats[\"mean\"]+1.645*stats[\"std\"]\n",
    "\n",
    "    processed = processed.melt(id_vars='GEOID20', var_name='Date', value_name='Temp')\n",
    "    \n",
    "    # conversion to Python datetime objects\n",
    "    processed['Date'] = processed['Date'].map(lambda x: x.lstrip('tmax')) + str(year)\n",
    "    processed['Date'] = pd.to_datetime(processed['Date'], format='%b%d%Y')\n",
    "\n",
    "    # Set + sort by multi-level index using 'GEOID20' and 'Date'\n",
    "    processed.set_index(['GEOID20', 'Date'], inplace=True)\n",
    "    processed.sort_index(inplace=True)\n",
    "\n",
    "    thresholds = stats.copy()\n",
    "    thresholds.drop(columns=['count', 'mean', 'std', 'min', '25%', '50%', '75%', 'max'], inplace=True)\n",
    "    \n",
    "    # for upper here we currently have this as 32.2\n",
    "    thresholds['static']= upper_threshold\n",
    "    \n",
    "    merged = processed.reset_index().merge(thresholds.reset_index(), on='GEOID20', how='left').set_index(['GEOID20', 'Date'])\n",
    "\n",
    "    return merged"
   ]
  },
  {
   "cell_type": "code",
   "execution_count": 7,
   "metadata": {},
   "outputs": [],
   "source": [
    "# function to create a (not indexed) boolean series which tells you whether an entry is part of a consecutive series of length n\n",
    "def consec_count_n(series, n):\n",
    "    temp = []\n",
    "    c = 0\n",
    "    for i in range(len(series.values)):\n",
    "        if series.values[i] == False:\n",
    "            c = 0\n",
    "        else:\n",
    "            c += 1\n",
    "        temp.append(c)\n",
    "    \n",
    "    result = []\n",
    "    pass_thres = False\n",
    "    for i in range(len(temp)):\n",
    "        if temp[-(i+1)] >= n:\n",
    "            pass_thres = True\n",
    "            result.append(True)\n",
    "        elif temp[-(i+1)] != 0 and pass_thres:\n",
    "            result.append(True)\n",
    "        else:\n",
    "            pass_thres = False\n",
    "            result.append(False)\n",
    "    result = result[::-1]\n",
    "\n",
    "    return pd.Series(result)"
   ]
  },
  {
   "cell_type": "code",
   "execution_count": 8,
   "metadata": {},
   "outputs": [],
   "source": [
    "# function to check if the contig_mask (consec_count function) is working\n",
    "def check(frame, contig_mask):\n",
    "    threshold_mask = (frame['Temp'] > frame['upper']) | (frame['Temp'] > frame['static'])\n",
    "\n",
    "    result = pd.DataFrame(contig_mask)\n",
    "\n",
    "    result.reset_index()\n",
    "    result.columns = [\"contiguous\"]\n",
    "    result.index = frame.index\n",
    "\n",
    "    check = pd.DataFrame(result)\n",
    "    check.insert(1, \"true-false\", threshold_mask)\n",
    "    \n",
    "    with pd.option_context('display.max_rows', None,):\n",
    "        print(check)"
   ]
  },
  {
   "cell_type": "code",
   "execution_count": 9,
   "metadata": {},
   "outputs": [],
   "source": [
    "# function which returns a filtered version of a given dataframe which only includes the entries which are part of a consecutive series of length n Trues for a boolean mask\n",
    "def consec_filter(frame, n):\n",
    "    threshold_mask = (frame['Temp'] > frame['upper']) | (frame['Temp'] > frame['static'])\n",
    "    \n",
    "    contig_mask = pd.DataFrame(data=consec_count_n(threshold_mask, n))\n",
    "\n",
    "    contig_mask.reset_index()\n",
    "    contig_mask.columns = [\"contiguous\"]\n",
    "    contig_mask.index = frame.index\n",
    "\n",
    "    filtered_data = frame[frame.index.isin(contig_mask.index[contig_mask['contiguous']])]\n",
    "\n",
    "    return filtered_data"
   ]
  },
  {
   "cell_type": "code",
   "execution_count": 10,
   "metadata": {},
   "outputs": [],
   "source": [
    "# function to turn the dataframe of days into flat data\n",
    "def flatten(frame):\n",
    "    sequences = []\n",
    "\n",
    "    # loop to find and append the sequences and their lengths to a new array\n",
    "    for zip_code, group in frame.groupby(level='GEOID20'):\n",
    "        start_date = None\n",
    "        sequence_length = 0\n",
    "        prev_date = None\n",
    "        for date in group.index.get_level_values('Date'):\n",
    "            if start_date is None:\n",
    "                start_date = date\n",
    "                sequence_length = 1\n",
    "            elif prev_date is not None and (date - prev_date).days == 1:\n",
    "                sequence_length += 1\n",
    "            else:\n",
    "                sequences.append({\n",
    "                    'GEOID20': zip_code,\n",
    "                    'Start_Date': start_date.date(),\n",
    "                    'Sequence_Length': sequence_length\n",
    "                })\n",
    "                start_date = date\n",
    "                sequence_length = 1\n",
    "            prev_date = date\n",
    "        if sequence_length > 0:\n",
    "            sequences.append({\n",
    "                'GEOID20': zip_code,\n",
    "                'Start_Date': start_date.date(),\n",
    "                'Sequence_Length': sequence_length\n",
    "            })\n",
    "    # flatten to 2d array\n",
    "    result = [[seq['GEOID20'], seq['Start_Date'], seq['Sequence_Length']] for seq in sequences]\n",
    "\n",
    "    return result"
   ]
  },
  {
   "cell_type": "code",
   "execution_count": 11,
   "metadata": {},
   "outputs": [],
   "source": [
    "# function to do the whole process for a single year\n",
    "def find_heatwaves(frame, cutoff, days, year):\n",
    "    processed = proc(frame, cutoff, year)\n",
    "    days = consec_filter(processed, days)\n",
    "    result = flatten(days)\n",
    "    return result"
   ]
  },
  {
   "cell_type": "code",
   "execution_count": 12,
   "metadata": {},
   "outputs": [],
   "source": [
    "def mCounts(df, thresholds):\n",
    "    # Extract year and month from datetime column\n",
    "    df['Year'] = df.index.get_level_values('Date').year\n",
    "    df['Month'] = df.index.get_level_values('Date').month\n",
    "\n",
    "    # Initialize a dictionary to store counts for each threshold\n",
    "    threshold_counts = {}\n",
    "\n",
    "    # Iterate over each threshold\n",
    "    for threshold in thresholds:\n",
    "        # Filter the dataframe to get only entries exceeding the threshold\n",
    "        exceed_threshold_df = df[df['Temp'] > threshold]\n",
    "        \n",
    "        # Group by zip code, year, and month and count the number of exceedances\n",
    "        grouped_df = exceed_threshold_df.groupby(['GEOID20', 'Year', 'Month']).size().reset_index(name=f'days_below_{threshold}')\n",
    "        \n",
    "        # Convert the count values to integers\n",
    "        grouped_df[f'days_below_{threshold}'] = grouped_df[f'days_below_{threshold}'].astype(int)\n",
    "\n",
    "        # Store the counts for this threshold in the dictionary\n",
    "        threshold_counts[threshold] = grouped_df\n",
    "\n",
    "    # Ensure all combinations of 'GEOID20', 'Year', and 'Month' are present in each threshold's grouped DataFrame\n",
    "    for threshold in thresholds:\n",
    "        all_combinations = pd.MultiIndex.from_product([threshold_counts[threshold]['GEOID20'].unique(),\n",
    "                                                    threshold_counts[threshold]['Year'].unique(),\n",
    "                                                    threshold_counts[threshold]['Month'].unique()],\n",
    "                                                    names=['GEOID20', 'Year', 'Month'])\n",
    "        threshold_counts[threshold] = threshold_counts[threshold].set_index(['GEOID20', 'Year', 'Month']).reindex(all_combinations).fillna(0).reset_index()\n",
    "\n",
    "    # Merge the dataframes for each threshold on zip code, year, and month\n",
    "    result_df = threshold_counts[thresholds[0]]\n",
    "    for threshold in thresholds[1:]:\n",
    "        result_df = pd.merge(result_df, threshold_counts[threshold], on=['GEOID20', 'Year', 'Month'], how='outer').fillna(0)\n",
    "\n",
    "    result_df = result_df.drop(columns=['Year'])\n",
    "    \n",
    "    result_df.sort_index()\n",
    "\n",
    "    # Now result_df contains the desired format with zip code, year, month, and the count of exceedances\n",
    "    return result_df"
   ]
  },
  {
   "cell_type": "code",
   "execution_count": 13,
   "metadata": {},
   "outputs": [],
   "source": [
    "def mCountSort(mCount):\n",
    "    sorted = mCount.sort_values(by=['GEOID20', 'Month'], kind='mergesort')\n",
    "\n",
    "    sorted.reset_index\n",
    "    sorted.set_index(['GEOID20', 'Month'])\n",
    "    \n",
    "    return sorted"
   ]
  },
  {
   "cell_type": "code",
   "execution_count": 51,
   "metadata": {},
   "outputs": [],
   "source": [
    "# format the headers of the columns\n",
    "columnNames = ['Zip_Code', 'Starting_Date', 'Days']"
   ]
  },
  {
   "cell_type": "code",
   "execution_count": 52,
   "metadata": {},
   "outputs": [
    {
     "ename": "",
     "evalue": "",
     "output_type": "error",
     "traceback": [
      "\u001b[1;31mThe Kernel crashed while executing code in the the current cell or a previous cell. Please review the code in the cell(s) to identify a possible cause of the failure. Click <a href='https://aka.ms/vscodeJupyterKernelCrash'>here</a> for more info. View Jupyter <a href='command:jupyter.viewOutput'>log</a> for further details."
     ]
    }
   ],
   "source": [
    "years = range(2006, 2023)\n",
    "\n",
    "for year in years:\n",
    "    frame = pd.read_csv(\"extracted_by_year/\" + str(year) + \"_extracted/tmax\" + str(year) + \".csv\")\n",
    "    result = find_heatwaves(frame, CUTOFF, DAYS, year)\n",
    "    np.savetxt(\"heatwave_\" + str(year) + \"_cutoff\" + str(CUTOFF) + \".csv\", result, fmt='%s', delimiter=', ', header=', '.join(columnNames))"
   ]
  },
  {
   "cell_type": "code",
   "execution_count": null,
   "metadata": {},
   "outputs": [],
   "source": [
    "# mCount section: find for each year the number of days per month various threholds are exceeded\n",
    "years = range(2006, 2023)\n",
    "columnNames = ['GEOID20', 'Month', 'days above 26.67', 'days above 32.22', 'days above 37.78']\n",
    "\n",
    "\n",
    "for year in years:\n",
    "    frame = pd.read_csv(\"extracted_by_year/\" + str(year) + \"_extracted/tmax\" + str(year) + \".csv\")\n",
    "    # use least strict filter to create the consec filter dataframe that you will use for all other thresholds\n",
    "    filter =  consec_filter(proc(frame, LEAST_FILTER, year), 1)\n",
    "    result = mCountSort(mCounts(filter, THRESHOLDS))\n",
    "    np.savetxt(\"monthcounts\" + str(year) + \".csv\", result, fmt='%s', delimiter=', ', header=', '.join(columnNames))\n",
    "    "
   ]
  }
 ],
 "metadata": {
  "kernelspec": {
   "display_name": "Python 3",
   "language": "python",
   "name": "python3"
  },
  "language_info": {
   "codemirror_mode": {
    "name": "ipython",
    "version": 3
   },
   "file_extension": ".py",
   "mimetype": "text/x-python",
   "name": "python",
   "nbconvert_exporter": "python",
   "pygments_lexer": "ipython3",
   "version": "3.9.13"
  }
 },
 "nbformat": 4,
 "nbformat_minor": 2
}
